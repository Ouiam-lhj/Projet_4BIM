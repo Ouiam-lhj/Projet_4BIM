{
 "cells": [
  {
   "cell_type": "markdown",
   "metadata": {},
   "source": [
    "# Code pour filtrer les visages de profil"
   ]
  },
  {
   "cell_type": "code",
   "execution_count": 13,
   "metadata": {},
   "outputs": [],
   "source": [
    "import pandas as pd\n",
    "import numpy as np\n",
    "import statistics"
   ]
  },
  {
   "cell_type": "code",
   "execution_count": 14,
   "metadata": {},
   "outputs": [
    {
     "name": "stderr",
     "output_type": "stream",
     "text": [
      "<>:1: SyntaxWarning: invalid escape sequence '\\s'\n",
      "<>:1: SyntaxWarning: invalid escape sequence '\\s'\n",
      "C:\\Users\\acaci\\AppData\\Local\\Temp\\ipykernel_20944\\2402440313.py:1: SyntaxWarning: invalid escape sequence '\\s'\n",
      "  list_landmarks=pd.read_csv(\"C:/Users/acaci/Downloads/list_landmarks_align_celeba.txt\" , sep = \"\\s+\", header = 0)\n"
     ]
    }
   ],
   "source": [
    "list_landmarks=pd.read_csv(\"C:/Users/acaci/Downloads/list_landmarks_align_celeba.txt\" , sep = \"\\s+\", header = 0)"
   ]
  },
  {
   "cell_type": "code",
   "execution_count": 15,
   "metadata": {},
   "outputs": [],
   "source": [
    "def full_face_only(df):\n",
    "    droping = []\n",
    "\n",
    "    for i in range(len(df)):\n",
    "        mean_eye = statistics.mean(df.iloc[i,[0,2]])\n",
    "        mean_eye_inf = mean_eye - 10\n",
    "        mean_eye_sup = mean_eye + 10\n",
    "        mean_mouth = statistics.mean(df.iloc[i,[6,8]])\n",
    "        mean_mouth_inf = mean_mouth - 10\n",
    "        mean_mouth_sup = mean_mouth + 10\n",
    "        \n",
    "        if df.iloc[i,4] < mean_eye_inf or df.iloc[i,4] > mean_eye_sup or df.iloc[i,4] < mean_mouth_inf or df.iloc[i,4] > mean_mouth_sup:\n",
    "            string_to_app = str(df.index[i+1])\n",
    "            droping.append(string_to_app)\n",
    "\n",
    "    df_filtered = df\n",
    "    df_filtered = df_filtered.drop(droping)\n",
    "\n",
    "    return df_filtered"
   ]
  },
  {
   "cell_type": "code",
   "execution_count": 16,
   "metadata": {},
   "outputs": [],
   "source": [
    "list_landmarks_filtered = full_face_only(list_landmarks)"
   ]
  },
  {
   "cell_type": "markdown",
   "metadata": {},
   "source": [
    "# Code pour filtrer les images floues"
   ]
  },
  {
   "cell_type": "code",
   "execution_count": 17,
   "metadata": {},
   "outputs": [
    {
     "name": "stderr",
     "output_type": "stream",
     "text": [
      "<>:1: SyntaxWarning: invalid escape sequence '\\s'\n",
      "<>:1: SyntaxWarning: invalid escape sequence '\\s'\n",
      "C:\\Users\\acaci\\AppData\\Local\\Temp\\ipykernel_20944\\977882645.py:1: SyntaxWarning: invalid escape sequence '\\s'\n",
      "  list_attr=pd.read_csv(\"C:/Users/acaci/Downloads/list_attr_celeba.txt\" , sep = \"\\s+\", header = 0)\n"
     ]
    }
   ],
   "source": [
    "list_attr=pd.read_csv(\"C:/Users/acaci/Downloads/list_attr_celeba.txt\" , sep = \"\\s+\", header = 0)"
   ]
  },
  {
   "cell_type": "code",
   "execution_count": 18,
   "metadata": {},
   "outputs": [],
   "source": [
    "def filter(df, feature, condition):\n",
    "    \"\"\"\n",
    "    This function filters the dataframe based on a specific feature and condition.\"\n",
    "    If the condition is True, it will remove the rows where the feature is True (equal to 1).\n",
    "    \"\"\"\n",
    "\n",
    "    droping = []\n",
    "    if condition == \"True\":\n",
    "        condition = 1\n",
    "    elif condition == \"False\":\n",
    "        condition = -1\n",
    "\n",
    "    for i in range(len(df)):\n",
    "        if df.iloc[i][feature] == condition:\n",
    "            string_to_app = str(df.index[i])\n",
    "            droping.append(string_to_app)\n",
    "\n",
    "    df_filtered = df.copy()\n",
    "    df_filtered = df_filtered.drop(droping)\n",
    "\n",
    "    return df_filtered"
   ]
  },
  {
   "cell_type": "code",
   "execution_count": 19,
   "metadata": {},
   "outputs": [
    {
     "name": "stdout",
     "output_type": "stream",
     "text": [
      "            5_o_Clock_Shadow  Arched_Eyebrows  Attractive  Bags_Under_Eyes  \\\n",
      "000001.jpg                -1                1           1               -1   \n",
      "000002.jpg                -1               -1          -1                1   \n",
      "000004.jpg                -1               -1           1               -1   \n",
      "000005.jpg                -1                1           1               -1   \n",
      "000006.jpg                -1                1           1               -1   \n",
      "...                      ...              ...         ...              ...   \n",
      "202595.jpg                -1               -1           1               -1   \n",
      "202596.jpg                -1               -1          -1               -1   \n",
      "202597.jpg                -1               -1          -1               -1   \n",
      "202598.jpg                -1                1           1               -1   \n",
      "202599.jpg                -1                1           1               -1   \n",
      "\n",
      "            Bald  Bangs  Big_Lips  Big_Nose  Black_Hair  Blond_Hair  ...  \\\n",
      "000001.jpg    -1     -1        -1        -1          -1          -1  ...   \n",
      "000002.jpg    -1     -1        -1         1          -1          -1  ...   \n",
      "000004.jpg    -1     -1        -1        -1          -1          -1  ...   \n",
      "000005.jpg    -1     -1         1        -1          -1          -1  ...   \n",
      "000006.jpg    -1     -1         1        -1          -1          -1  ...   \n",
      "...          ...    ...       ...       ...         ...         ...  ...   \n",
      "202595.jpg    -1     -1         1        -1          -1           1  ...   \n",
      "202596.jpg    -1      1         1        -1          -1           1  ...   \n",
      "202597.jpg    -1     -1        -1        -1           1          -1  ...   \n",
      "202598.jpg    -1     -1         1        -1           1          -1  ...   \n",
      "202599.jpg    -1     -1        -1        -1          -1           1  ...   \n",
      "\n",
      "            Sideburns  Smiling  Straight_Hair  Wavy_Hair  Wearing_Earrings  \\\n",
      "000001.jpg         -1        1              1         -1                 1   \n",
      "000002.jpg         -1        1             -1         -1                -1   \n",
      "000004.jpg         -1       -1              1         -1                 1   \n",
      "000005.jpg         -1       -1             -1         -1                -1   \n",
      "000006.jpg         -1       -1             -1          1                 1   \n",
      "...               ...      ...            ...        ...               ...   \n",
      "202595.jpg         -1       -1             -1         -1                -1   \n",
      "202596.jpg         -1        1              1         -1                -1   \n",
      "202597.jpg         -1        1             -1         -1                -1   \n",
      "202598.jpg         -1        1             -1          1                 1   \n",
      "202599.jpg         -1       -1             -1          1                -1   \n",
      "\n",
      "            Wearing_Hat  Wearing_Lipstick  Wearing_Necklace  Wearing_Necktie  \\\n",
      "000001.jpg           -1                 1                -1               -1   \n",
      "000002.jpg           -1                -1                -1               -1   \n",
      "000004.jpg           -1                 1                 1               -1   \n",
      "000005.jpg           -1                 1                -1               -1   \n",
      "000006.jpg           -1                 1                -1               -1   \n",
      "...                 ...               ...               ...              ...   \n",
      "202595.jpg           -1                 1                -1               -1   \n",
      "202596.jpg           -1                -1                -1               -1   \n",
      "202597.jpg           -1                -1                -1               -1   \n",
      "202598.jpg           -1                 1                -1               -1   \n",
      "202599.jpg           -1                 1                -1               -1   \n",
      "\n",
      "            Young  \n",
      "000001.jpg      1  \n",
      "000002.jpg      1  \n",
      "000004.jpg      1  \n",
      "000005.jpg      1  \n",
      "000006.jpg      1  \n",
      "...           ...  \n",
      "202595.jpg      1  \n",
      "202596.jpg      1  \n",
      "202597.jpg      1  \n",
      "202598.jpg      1  \n",
      "202599.jpg      1  \n",
      "\n",
      "[192287 rows x 40 columns]\n"
     ]
    }
   ],
   "source": [
    "filtered_attr = filter(list_attr, 'Blurry', 'True')\n",
    "print(filtered_attr)"
   ]
  },
  {
   "cell_type": "code",
   "execution_count": 22,
   "metadata": {},
   "outputs": [],
   "source": [
    "# Merge des deux df\n",
    "final_dataset = list_landmarks_filtered.join(filtered_attr, how='inner')"
   ]
  },
  {
   "cell_type": "code",
   "execution_count": 27,
   "metadata": {},
   "outputs": [],
   "source": [
    "final_dataset.to_csv(\"final_dataset.csv\", index=True)"
   ]
  }
 ],
 "metadata": {
  "kernelspec": {
   "display_name": "Python 3",
   "language": "python",
   "name": "python3"
  },
  "language_info": {
   "codemirror_mode": {
    "name": "ipython",
    "version": 3
   },
   "file_extension": ".py",
   "mimetype": "text/x-python",
   "name": "python",
   "nbconvert_exporter": "python",
   "pygments_lexer": "ipython3",
   "version": "3.12.6"
  }
 },
 "nbformat": 4,
 "nbformat_minor": 2
}
