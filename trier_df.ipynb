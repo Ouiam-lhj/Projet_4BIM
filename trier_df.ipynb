{
 "cells": [
  {
   "cell_type": "markdown",
   "metadata": {},
   "source": [
    "# Code pour filtrer les visages de profil"
   ]
  },
  {
   "cell_type": "code",
   "execution_count": 63,
   "metadata": {},
   "outputs": [],
   "source": [
    "import pandas as pd\n",
    "import numpy as np\n",
    "import statistics"
   ]
  },
  {
   "cell_type": "code",
   "execution_count": 64,
   "metadata": {},
   "outputs": [
    {
     "name": "stderr",
     "output_type": "stream",
     "text": [
      "<>:1: SyntaxWarning: invalid escape sequence '\\s'\n",
      "<>:1: SyntaxWarning: invalid escape sequence '\\s'\n",
      "C:\\Users\\acaci\\AppData\\Local\\Temp\\ipykernel_16732\\2402440313.py:1: SyntaxWarning: invalid escape sequence '\\s'\n",
      "  list_landmarks=pd.read_csv(\"C:/Users/acaci/Downloads/list_landmarks_align_celeba.txt\" , sep = \"\\s+\", header = 0)\n"
     ]
    }
   ],
   "source": [
    "list_landmarks=pd.read_csv(\"C:/Users/acaci/Downloads/list_landmarks_align_celeba.txt\" , sep = \"\\s+\", header = 0)"
   ]
  },
  {
   "cell_type": "code",
   "execution_count": 65,
   "metadata": {},
   "outputs": [],
   "source": [
    "def full_face_only(df):\n",
    "    droping = []\n",
    "\n",
    "    for i in range(len(df)):\n",
    "        mean_eye = statistics.mean(df.iloc[i,[0,2]])\n",
    "        mean_eye_inf = mean_eye - 10\n",
    "        mean_eye_sup = mean_eye + 10\n",
    "        mean_mouth = statistics.mean(df.iloc[i,[6,8]])\n",
    "        mean_mouth_inf = mean_mouth - 10\n",
    "        mean_mouth_sup = mean_mouth + 10\n",
    "        \n",
    "        if df.iloc[i,4] < mean_eye_inf or df.iloc[i,4] > mean_eye_sup or df.iloc[i,4] < mean_mouth_inf or df.iloc[i,4] > mean_mouth_sup:\n",
    "            string_to_app = str(i+1) + \".jpg\"\n",
    "            string_to_app = string_to_app.zfill(10)\n",
    "            droping.append(string_to_app)\n",
    "\n",
    "    df_filtered = df\n",
    "    df_filtered = df_filtered.drop(droping)\n",
    "\n",
    "    return df_filtered"
   ]
  },
  {
   "cell_type": "code",
   "execution_count": 66,
   "metadata": {},
   "outputs": [],
   "source": [
    "list_landmarks_filtered = full_face_only(list_landmarks)"
   ]
  },
  {
   "cell_type": "code",
   "execution_count": 67,
   "metadata": {},
   "outputs": [
    {
     "name": "stdout",
     "output_type": "stream",
     "text": [
      "Index(['000002.jpg', '000005.jpg', '000006.jpg', '000007.jpg', '000008.jpg',\n",
      "       '000009.jpg', '000010.jpg', '000011.jpg', '000012.jpg', '000013.jpg',\n",
      "       ...\n",
      "       '202590.jpg', '202591.jpg', '202592.jpg', '202593.jpg', '202594.jpg',\n",
      "       '202595.jpg', '202596.jpg', '202597.jpg', '202598.jpg', '202599.jpg'],\n",
      "      dtype='object', length=171719)\n"
     ]
    }
   ],
   "source": [
    "list_photo_face = list_landmarks_filtered.index\n",
    "print(list_photo_face)"
   ]
  },
  {
   "cell_type": "markdown",
   "metadata": {},
   "source": [
    "# Code pour filtrer les images floues"
   ]
  },
  {
   "cell_type": "code",
   "execution_count": 68,
   "metadata": {},
   "outputs": [
    {
     "name": "stderr",
     "output_type": "stream",
     "text": [
      "<>:1: SyntaxWarning: invalid escape sequence '\\s'\n",
      "<>:1: SyntaxWarning: invalid escape sequence '\\s'\n",
      "C:\\Users\\acaci\\AppData\\Local\\Temp\\ipykernel_16732\\977882645.py:1: SyntaxWarning: invalid escape sequence '\\s'\n",
      "  list_attr=pd.read_csv(\"C:/Users/acaci/Downloads/list_attr_celeba.txt\" , sep = \"\\s+\", header = 0)\n"
     ]
    }
   ],
   "source": [
    "list_attr=pd.read_csv(\"C:/Users/acaci/Downloads/list_attr_celeba.txt\" , sep = \"\\s+\", header = 0)"
   ]
  },
  {
   "cell_type": "code",
   "execution_count": 69,
   "metadata": {},
   "outputs": [],
   "source": [
    "def filter_blurry(df):\n",
    "    droping = []\n",
    "\n",
    "    for i in range(len(df)):\n",
    "        if df.iloc[i,10] == 1:\n",
    "            string_to_app = str(i+1) + \".jpg\"\n",
    "            string_to_app = string_to_app.zfill(10)\n",
    "            droping.append(string_to_app)\n",
    "\n",
    "    df_filtered = df\n",
    "    df_filtered = df_filtered.drop(droping)\n",
    "\n",
    "    return df_filtered"
   ]
  },
  {
   "cell_type": "code",
   "execution_count": 70,
   "metadata": {},
   "outputs": [],
   "source": [
    "filtered_attr = filter_blurry(list_attr)"
   ]
  },
  {
   "cell_type": "code",
   "execution_count": 62,
   "metadata": {},
   "outputs": [
    {
     "name": "stdout",
     "output_type": "stream",
     "text": [
      "Index(['000001.jpg', '000002.jpg', '000004.jpg', '000005.jpg', '000006.jpg',\n",
      "       '000007.jpg', '000008.jpg', '000009.jpg', '000010.jpg', '000011.jpg',\n",
      "       ...\n",
      "       '202590.jpg', '202591.jpg', '202592.jpg', '202593.jpg', '202594.jpg',\n",
      "       '202595.jpg', '202596.jpg', '202597.jpg', '202598.jpg', '202599.jpg'],\n",
      "      dtype='object', length=192287)\n"
     ]
    }
   ],
   "source": [
    "list_photo_nette = filtered_attr.index\n",
    "print(list_photo_nette)"
   ]
  },
  {
   "cell_type": "code",
   "execution_count": null,
   "metadata": {},
   "outputs": [
    {
     "data": {
      "text/plain": [
       "Index(['000002.jpg', '000005.jpg', '000006.jpg', '000007.jpg', '000008.jpg',\n",
       "       '000009.jpg', '000010.jpg', '000011.jpg', '000012.jpg', '000013.jpg',\n",
       "       ...\n",
       "       '202590.jpg', '202591.jpg', '202592.jpg', '202593.jpg', '202594.jpg',\n",
       "       '202595.jpg', '202596.jpg', '202597.jpg', '202598.jpg', '202599.jpg'],\n",
       "      dtype='object', length=163804)"
      ]
     },
     "execution_count": 73,
     "metadata": {},
     "output_type": "execute_result"
    }
   ],
   "source": [
    "# Merge des deux listes\n",
    "list_photo_face.join(list_photo_nette, how='inner')"
   ]
  }
 ],
 "metadata": {
  "kernelspec": {
   "display_name": "Python 3",
   "language": "python",
   "name": "python3"
  },
  "language_info": {
   "codemirror_mode": {
    "name": "ipython",
    "version": 3
   },
   "file_extension": ".py",
   "mimetype": "text/x-python",
   "name": "python",
   "nbconvert_exporter": "python",
   "pygments_lexer": "ipython3",
   "version": "3.12.6"
  }
 },
 "nbformat": 4,
 "nbformat_minor": 2
}
