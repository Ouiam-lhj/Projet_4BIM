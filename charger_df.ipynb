{
 "cells": [
  {
   "cell_type": "markdown",
   "id": "e1268f04-1666-4a2b-8cce-5cd2fbf7b154",
   "metadata": {},
   "source": [
    "## ***chargement du dataset*** "
   ]
  },
  {
   "cell_type": "code",
   "execution_count": 2,
   "id": "1148bca8-6d70-4d50-8c88-d06353fa289c",
   "metadata": {},
   "outputs": [],
   "source": [
    "#library\n",
    "import pandas as pd"
   ]
  },
  {
   "cell_type": "code",
   "execution_count": 9,
   "id": "a502f486-f761-4c43-a609-de1c7d80bf66",
   "metadata": {},
   "outputs": [
    {
     "name": "stdout",
     "output_type": "stream",
     "text": [
      "            5_o_Clock_Shadow  Arched_Eyebrows  Attractive  Bags_Under_Eyes  \\\n",
      "000001.jpg                -1                1           1               -1   \n",
      "000002.jpg                -1               -1          -1                1   \n",
      "000003.jpg                -1               -1          -1               -1   \n",
      "000004.jpg                -1               -1           1               -1   \n",
      "000005.jpg                -1                1           1               -1   \n",
      "...                      ...              ...         ...              ...   \n",
      "202595.jpg                -1               -1           1               -1   \n",
      "202596.jpg                -1               -1          -1               -1   \n",
      "202597.jpg                -1               -1          -1               -1   \n",
      "202598.jpg                -1                1           1               -1   \n",
      "202599.jpg                -1                1           1               -1   \n",
      "\n",
      "            Bald  Bangs  Big_Lips  Big_Nose  Black_Hair  Blond_Hair  ...  \\\n",
      "000001.jpg    -1     -1        -1        -1          -1          -1  ...   \n",
      "000002.jpg    -1     -1        -1         1          -1          -1  ...   \n",
      "000003.jpg    -1     -1         1        -1          -1          -1  ...   \n",
      "000004.jpg    -1     -1        -1        -1          -1          -1  ...   \n",
      "000005.jpg    -1     -1         1        -1          -1          -1  ...   \n",
      "...          ...    ...       ...       ...         ...         ...  ...   \n",
      "202595.jpg    -1     -1         1        -1          -1           1  ...   \n",
      "202596.jpg    -1      1         1        -1          -1           1  ...   \n",
      "202597.jpg    -1     -1        -1        -1           1          -1  ...   \n",
      "202598.jpg    -1     -1         1        -1           1          -1  ...   \n",
      "202599.jpg    -1     -1        -1        -1          -1           1  ...   \n",
      "\n",
      "            Sideburns  Smiling  Straight_Hair  Wavy_Hair  Wearing_Earrings  \\\n",
      "000001.jpg         -1        1              1         -1                 1   \n",
      "000002.jpg         -1        1             -1         -1                -1   \n",
      "000003.jpg         -1       -1             -1          1                -1   \n",
      "000004.jpg         -1       -1              1         -1                 1   \n",
      "000005.jpg         -1       -1             -1         -1                -1   \n",
      "...               ...      ...            ...        ...               ...   \n",
      "202595.jpg         -1       -1             -1         -1                -1   \n",
      "202596.jpg         -1        1              1         -1                -1   \n",
      "202597.jpg         -1        1             -1         -1                -1   \n",
      "202598.jpg         -1        1             -1          1                 1   \n",
      "202599.jpg         -1       -1             -1          1                -1   \n",
      "\n",
      "            Wearing_Hat  Wearing_Lipstick  Wearing_Necklace  Wearing_Necktie  \\\n",
      "000001.jpg           -1                 1                -1               -1   \n",
      "000002.jpg           -1                -1                -1               -1   \n",
      "000003.jpg           -1                -1                -1               -1   \n",
      "000004.jpg           -1                 1                 1               -1   \n",
      "000005.jpg           -1                 1                -1               -1   \n",
      "...                 ...               ...               ...              ...   \n",
      "202595.jpg           -1                 1                -1               -1   \n",
      "202596.jpg           -1                -1                -1               -1   \n",
      "202597.jpg           -1                -1                -1               -1   \n",
      "202598.jpg           -1                 1                -1               -1   \n",
      "202599.jpg           -1                 1                -1               -1   \n",
      "\n",
      "            Young  \n",
      "000001.jpg      1  \n",
      "000002.jpg      1  \n",
      "000003.jpg      1  \n",
      "000004.jpg      1  \n",
      "000005.jpg      1  \n",
      "...           ...  \n",
      "202595.jpg      1  \n",
      "202596.jpg      1  \n",
      "202597.jpg      1  \n",
      "202598.jpg      1  \n",
      "202599.jpg      1  \n",
      "\n",
      "[202599 rows x 40 columns]\n",
      " il y a 9818 personne qui portent des chapeau\n"
     ]
    }
   ],
   "source": [
    "list_attr=pd.read_csv(\"/Users/ouiamelhajji/Documents/INSA/4A/S2/devweb/list_attr_celeba.txt\" , sep = \"\\s+\", header = 0)\n",
    "print(list_attr)\n",
    "print(\" il y a\", list_attr[list_attr[\"Wearing_Hat\"] == 1].shape[0], \"personne qui portent des chapeau\")"
   ]
  },
  {
   "cell_type": "code",
   "execution_count": null,
   "id": "a9a8e653-fdc5-4015-910f-80d5a198e1d5",
   "metadata": {},
   "outputs": [],
   "source": []
  }
 ],
 "metadata": {
  "kernelspec": {
   "display_name": "Python 3 (ipykernel)",
   "language": "python",
   "name": "python3"
  },
  "language_info": {
   "codemirror_mode": {
    "name": "ipython",
    "version": 3
   },
   "file_extension": ".py",
   "mimetype": "text/x-python",
   "name": "python",
   "nbconvert_exporter": "python",
   "pygments_lexer": "ipython3",
   "version": "3.10.13"
  }
 },
 "nbformat": 4,
 "nbformat_minor": 5
}
