{
 "cells": [
  {
   "cell_type": "markdown",
   "id": "e1268f04-1666-4a2b-8cce-5cd2fbf7b154",
   "metadata": {},
   "source": [
    "## ***chargement du dataset*** "
   ]
  },
  {
   "cell_type": "code",
   "execution_count": 2,
   "id": "1148bca8-6d70-4d50-8c88-d06353fa289c",
   "metadata": {},
   "outputs": [],
   "source": [
    "#library\n",
    "import pandas as pd"
   ]
  },
  {
   "cell_type": "code",
   "execution_count": null,
   "id": "a502f486-f761-4c43-a609-de1c7d80bf66",
   "metadata": {},
   "outputs": [
    {
     "name": "stderr",
     "output_type": "stream",
     "text": [
      "<>:1: SyntaxWarning: invalid escape sequence '\\s'\n",
      "<>:1: SyntaxWarning: invalid escape sequence '\\s'\n",
      "C:\\Users\\acaci\\AppData\\Local\\Temp\\ipykernel_21384\\4250578801.py:1: SyntaxWarning: invalid escape sequence '\\s'\n",
      "  list_attr=pd.read_csv(\"C:/Users/acaci/Downloads/list_attr_celeba.txt\" , sep = \"\\s+\", header = 0)\n"
     ]
    },
    {
     "name": "stdout",
     "output_type": "stream",
     "text": [
      "            5_o_Clock_Shadow  Arched_Eyebrows  Attractive  Bags_Under_Eyes  \\\n",
      "000001.jpg                -1                1           1               -1   \n",
      "000002.jpg                -1               -1          -1                1   \n",
      "000003.jpg                -1               -1          -1               -1   \n",
      "000004.jpg                -1               -1           1               -1   \n",
      "000005.jpg                -1                1           1               -1   \n",
      "...                      ...              ...         ...              ...   \n",
      "202595.jpg                -1               -1           1               -1   \n",
      "202596.jpg                -1               -1          -1               -1   \n",
      "202597.jpg                -1               -1          -1               -1   \n",
      "202598.jpg                -1                1           1               -1   \n",
      "202599.jpg                -1                1           1               -1   \n",
      "\n",
      "            Bald  Bangs  Big_Lips  Big_Nose  Black_Hair  Blond_Hair  ...  \\\n",
      "000001.jpg    -1     -1        -1        -1          -1          -1  ...   \n",
      "000002.jpg    -1     -1        -1         1          -1          -1  ...   \n",
      "000003.jpg    -1     -1         1        -1          -1          -1  ...   \n",
      "000004.jpg    -1     -1        -1        -1          -1          -1  ...   \n",
      "000005.jpg    -1     -1         1        -1          -1          -1  ...   \n",
      "...          ...    ...       ...       ...         ...         ...  ...   \n",
      "202595.jpg    -1     -1         1        -1          -1           1  ...   \n",
      "202596.jpg    -1      1         1        -1          -1           1  ...   \n",
      "202597.jpg    -1     -1        -1        -1           1          -1  ...   \n",
      "202598.jpg    -1     -1         1        -1           1          -1  ...   \n",
      "202599.jpg    -1     -1        -1        -1          -1           1  ...   \n",
      "\n",
      "            Sideburns  Smiling  Straight_Hair  Wavy_Hair  Wearing_Earrings  \\\n",
      "000001.jpg         -1        1              1         -1                 1   \n",
      "000002.jpg         -1        1             -1         -1                -1   \n",
      "000003.jpg         -1       -1             -1          1                -1   \n",
      "000004.jpg         -1       -1              1         -1                 1   \n",
      "000005.jpg         -1       -1             -1         -1                -1   \n",
      "...               ...      ...            ...        ...               ...   \n",
      "202595.jpg         -1       -1             -1         -1                -1   \n",
      "202596.jpg         -1        1              1         -1                -1   \n",
      "202597.jpg         -1        1             -1         -1                -1   \n",
      "202598.jpg         -1        1             -1          1                 1   \n",
      "202599.jpg         -1       -1             -1          1                -1   \n",
      "\n",
      "            Wearing_Hat  Wearing_Lipstick  Wearing_Necklace  Wearing_Necktie  \\\n",
      "000001.jpg           -1                 1                -1               -1   \n",
      "000002.jpg           -1                -1                -1               -1   \n",
      "000003.jpg           -1                -1                -1               -1   \n",
      "000004.jpg           -1                 1                 1               -1   \n",
      "000005.jpg           -1                 1                -1               -1   \n",
      "...                 ...               ...               ...              ...   \n",
      "202595.jpg           -1                 1                -1               -1   \n",
      "202596.jpg           -1                -1                -1               -1   \n",
      "202597.jpg           -1                -1                -1               -1   \n",
      "202598.jpg           -1                 1                -1               -1   \n",
      "202599.jpg           -1                 1                -1               -1   \n",
      "\n",
      "            Young  \n",
      "000001.jpg      1  \n",
      "000002.jpg      1  \n",
      "000003.jpg      1  \n",
      "000004.jpg      1  \n",
      "000005.jpg      1  \n",
      "...           ...  \n",
      "202595.jpg      1  \n",
      "202596.jpg      1  \n",
      "202597.jpg      1  \n",
      "202598.jpg      1  \n",
      "202599.jpg      1  \n",
      "\n",
      "[202599 rows x 40 columns]\n",
      " il y a 9818 personne qui portent des chapeau\n"
     ]
    }
   ],
   "source": [
    "list_attr=pd.read_csv(\"/Users/ouiamelhajji/Documents/INSA/4A/S2/devweb/list_attr_celeba.txt\" , sep = \"\\s+\", header = 0)\n",
    "print(list_attr)\n",
    "print(\" il y a\", list_attr[list_attr[\"Wearing_Hat\"] == 1].shape[0], \"personne qui portent des chapeau\")"
   ]
  },
  {
   "cell_type": "code",
   "execution_count": 8,
   "id": "a9a8e653-fdc5-4015-910f-80d5a198e1d5",
   "metadata": {},
   "outputs": [
    {
     "name": "stderr",
     "output_type": "stream",
     "text": [
      "<>:1: SyntaxWarning: invalid escape sequence '\\s'\n",
      "<>:1: SyntaxWarning: invalid escape sequence '\\s'\n",
      "C:\\Users\\acaci\\AppData\\Local\\Temp\\ipykernel_21384\\2531131508.py:1: SyntaxWarning: invalid escape sequence '\\s'\n",
      "  list_landmarks=pd.read_csv(\"C:/Users/acaci/Downloads/list_landmarks_align_celeba.txt\" , sep = \"\\s+\", header = 0)\n"
     ]
    },
    {
     "name": "stdout",
     "output_type": "stream",
     "text": [
      "            lefteye_x  lefteye_y  righteye_x  righteye_y  nose_x  nose_y  \\\n",
      "000001.jpg         69        109         106         113      77     142   \n",
      "000002.jpg         69        110         107         112      81     135   \n",
      "000003.jpg         76        112         104         106     108     128   \n",
      "000004.jpg         72        113         108         108     101     138   \n",
      "000005.jpg         66        114         112         112      86     119   \n",
      "...               ...        ...         ...         ...     ...     ...   \n",
      "202595.jpg         69        111         108         111      89     140   \n",
      "202596.jpg         67        112         110         112      85     141   \n",
      "202597.jpg         69        111         107         111      92     137   \n",
      "202598.jpg         69        111         108         111      90     137   \n",
      "202599.jpg         68        111         109         112      81     136   \n",
      "\n",
      "            leftmouth_x  leftmouth_y  rightmouth_x  rightmouth_y  \n",
      "000001.jpg           73          152           108           154  \n",
      "000002.jpg           70          151           108           153  \n",
      "000003.jpg           74          156            98           158  \n",
      "000004.jpg           71          155           101           151  \n",
      "000005.jpg           71          147           104           150  \n",
      "...                 ...          ...           ...           ...  \n",
      "202595.jpg           73          151           104           153  \n",
      "202596.jpg           66          150           110           150  \n",
      "202597.jpg           68          151           109           153  \n",
      "202598.jpg           71          153           106           151  \n",
      "202599.jpg           75          150           103           152  \n",
      "\n",
      "[202599 rows x 10 columns]\n"
     ]
    }
   ],
   "source": [
    "list_landmarks=pd.read_csv(\"C:/Users/acaci/Downloads/list_landmarks_align_celeba.txt\" , sep = \"\\s+\", header = 0)\n",
    "print(list_landmarks)"
   ]
  }
 ],
 "metadata": {
  "kernelspec": {
   "display_name": "Python 3",
   "language": "python",
   "name": "python3"
  },
  "language_info": {
   "codemirror_mode": {
    "name": "ipython",
    "version": 3
   },
   "file_extension": ".py",
   "mimetype": "text/x-python",
   "name": "python",
   "nbconvert_exporter": "python",
   "pygments_lexer": "ipython3",
   "version": "3.12.6"
  }
 },
 "nbformat": 4,
 "nbformat_minor": 5
}
